{
 "cells": [
  {
   "cell_type": "code",
   "execution_count": 3,
   "id": "b2899612",
   "metadata": {},
   "outputs": [],
   "source": [
    "import re\n",
    "from datetime import datetime"
   ]
  },
  {
   "cell_type": "code",
   "execution_count": 4,
   "id": "79c72b4d",
   "metadata": {},
   "outputs": [],
   "source": [
    "with open('logfile.log', 'r') as file:\n",
    "    lines = file.readlines()   "
   ]
  },
  {
   "cell_type": "code",
   "execution_count": 5,
   "id": "e9716401",
   "metadata": {},
   "outputs": [
    {
     "name": "stdout",
     "output_type": "stream",
     "text": [
      "[2023-10-14 10:00:00] Transaction Start: ID=12345, User=alice\n",
      "\n",
      "[2023-10-14 10:05:00] Transaction End: ID=12345, Status=Success\n",
      "\n",
      "[2023-10-14 10:10:00] Transaction Start: ID=12346, User=bob\n",
      "\n",
      "[2023-10-14 10:15:00] Transaction End: ID=12346, Status=Error\n"
     ]
    }
   ],
   "source": [
    "print(*lines, sep='\\n')"
   ]
  },
  {
   "cell_type": "code",
   "execution_count": 6,
   "id": "43d3cb00",
   "metadata": {},
   "outputs": [
    {
     "name": "stdout",
     "output_type": "stream",
     "text": [
      "Number of errors found: 1\n"
     ]
    }
   ],
   "source": [
    "counter=0\n",
    "\n",
    "for line in lines:\n",
    "    match=re.search(r'Transaction End.*Status=Error',line)\n",
    "    if match:\n",
    "        counter+=1\n",
    " \n",
    "print(f\"Number of errors found: {counter}\")    "
   ]
  },
  {
   "cell_type": "code",
   "execution_count": 7,
   "id": "48c1c216",
   "metadata": {},
   "outputs": [
    {
     "name": "stdout",
     "output_type": "stream",
     "text": [
      "Users: {'bob', 'alice'}\n"
     ]
    }
   ],
   "source": [
    "#all the users\n",
    "users= set()\n",
    "\n",
    "for line in lines:\n",
    "    match=re.search(r'Transaction Start.*User=(.+)',line)\n",
    "    if match:\n",
    "        users.add(match.group(1));\n",
    "    \n",
    "print(f\"Users: {users}\")"
   ]
  },
  {
   "cell_type": "code",
   "execution_count": 9,
   "id": "1418538c",
   "metadata": {},
   "outputs": [
    {
     "name": "stdout",
     "output_type": "stream",
     "text": [
      "The longest transaction is ID 12345 with a duration of 300.0 seconds\n"
     ]
    }
   ],
   "source": [
    "max_duration = 0\n",
    "max_id = None\n",
    "transaction_dictionary = {} \n",
    "format_data_time = '%Y-%m-%d %H:%M:%S'\n",
    "pattern_start = r'\\[(\\d{4}-\\d{2}-\\d{2} \\d{2}:\\d{2}:\\d{2})\\].*Transaction Start.*ID=(\\d+)'\n",
    "pattern_end = r'\\[(\\d{4}-\\d{2}-\\d{2} \\d{2}:\\d{2}:\\d{2})\\].*Transaction End.*ID=(\\d+)'\n",
    "\n",
    "for line in lines:\n",
    "    match=re.search(pattern_start,line)\n",
    "    if match:\n",
    "        ID=match.group(2)\n",
    "        start_time=datetime.strptime(match.group(1),format_data_time)\n",
    "        transaction_dictionary[ID]={'Start': start_time ,'End': None}\n",
    "        \n",
    "    match=re.search(pattern_end,line)\n",
    "    \n",
    "    if match:\n",
    "        ID=match.group(2)\n",
    "        for Id in transaction_dictionary.keys():\n",
    "            if(Id==ID):\n",
    "                end_time=datetime.strptime(match.group(1),format_data_time)\n",
    "                transaction_dictionary[ID]['End']=end_time\n",
    "                \n",
    "for ID in transaction_dictionary.keys():\n",
    "    start_time = transaction_dictionary[ID]['Start']\n",
    "    end_time = transaction_dictionary[ID]['End']\n",
    "    \n",
    "    if end_time is not None:\n",
    "        duration = end_time - start_time\n",
    "        duration_in_seconds = duration.total_seconds() \n",
    "        if duration_in_seconds > max_duration:\n",
    "            max_duration=duration_in_seconds\n",
    "            max_id=ID\n",
    "\n",
    "print(f\"The longest transaction is ID {max_id} with a duration of {max_duration} seconds\")"
   ]
  }
 ],
 "metadata": {
  "kernelspec": {
   "display_name": "Python 3 (ipykernel)",
   "language": "python",
   "name": "python3"
  },
  "language_info": {
   "codemirror_mode": {
    "name": "ipython",
    "version": 3
   },
   "file_extension": ".py",
   "mimetype": "text/x-python",
   "name": "python",
   "nbconvert_exporter": "python",
   "pygments_lexer": "ipython3",
   "version": "3.9.13"
  }
 },
 "nbformat": 4,
 "nbformat_minor": 5
}
